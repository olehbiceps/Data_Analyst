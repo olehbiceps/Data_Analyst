{
 "cells": [
  {
   "cell_type": "code",
   "execution_count": 1,
   "id": "11301bac",
   "metadata": {},
   "outputs": [
    {
     "name": "stdout",
     "output_type": "stream",
     "text": [
      "df shape: (49123, 170)\n",
      "schema shape: (139, 6)\n",
      "пересечение колонок со схемой: 124\n"
     ]
    }
   ],
   "source": [
    "import pandas as pd\n",
    "import numpy as np\n",
    "\n",
    "pd.set_option('display.max_columns', 200)\n",
    "pd.set_option('display.max_colwidth', 200)\n",
    "\n",
    "PUBLIC_CSV = r\"C:\\Users\\Askker\\Desktop\\HW Python\\survey_results_public.csv\"\n",
    "SCHEMA_CSV = r\"C:\\Users\\Askker\\Desktop\\HW Python\\survey_results_schema.csv\"\n",
    "\n",
    "df = pd.read_csv(PUBLIC_CSV, low_memory=False)\n",
    "schema = pd.read_csv(SCHEMA_CSV, low_memory=False)\n",
    "\n",
    "print(\"df shape:\", df.shape)\n",
    "print(\"schema shape:\", schema.shape)\n",
    "\n",
    "# qname из схемы и пересечение колонок\n",
    "qname_col = next((c for c in schema.columns if c.lower() == \"qname\"), schema.columns[0])\n",
    "qnames = schema[qname_col].dropna().astype(str).str.strip().unique().tolist()\n",
    "cols_in_schema = sorted(set(qnames).intersection(df.columns))\n",
    "print(\"пересечение колонок со схемой:\", len(cols_in_schema))\n",
    "\n"
   ]
  },
  {
   "cell_type": "code",
   "execution_count": 2,
   "id": "3e013b47",
   "metadata": {},
   "outputs": [
    {
     "name": "stdout",
     "output_type": "stream",
     "text": [
      "COL_WORK_EXP  = WorkExp\n",
      "COL_REMOTE    = RemoteWork\n",
      "COL_LANG_USED = LanguageHaveWorkedWith\n",
      "COL_COMP      = ConvertedCompYearly\n",
      "COL_EDU       = EdLevel\n",
      "COL_AGE       = Age\n",
      "COL_INDUSTRY  = Industry\n",
      "COL_COUNTRY   = Country\n"
     ]
    }
   ],
   "source": [
    "def pick_col(df, candidates):\n",
    "    for c in candidates:\n",
    "        if c in df.columns:\n",
    "            return c\n",
    "    return None\n",
    "\n",
    "# подбираем имена колонок под конкретный год\n",
    "COL_RESPONSE_ID = pick_col(df, ['ResponseId', 'ResponseID', 'Respondent'])\n",
    "COL_WORK_EXP    = pick_col(df, ['WorkExp', 'YearsCodePro', 'YearsCode'])\n",
    "COL_REMOTE      = pick_col(df, ['RemoteWork', 'WorkRemote', 'Remote'])\n",
    "COL_LANG_USED   = pick_col(df, ['LanguageHaveWorkedWith'])  # multi-select\n",
    "COL_COMP        = pick_col(df, ['ConvertedCompYearly', 'CompTotal', 'ConvertedComp'])\n",
    "COL_EDU         = pick_col(df, ['EdLevel', 'Education', 'EducationLevel'])\n",
    "COL_AGE         = pick_col(df, ['Age', 'AgeBracket'])\n",
    "COL_INDUSTRY    = pick_col(df, ['Industry'])\n",
    "COL_COUNTRY     = pick_col(df, ['Country'])\n",
    "\n",
    "def to_numeric_workexp(series):\n",
    "    if series is None:\n",
    "        return None\n",
    "    mapping = {'less than 1 year': 0.5, 'more than 50 years': 51.0}\n",
    "    def parse_val(x):\n",
    "        if pd.isna(x): return np.nan\n",
    "        if isinstance(x, (int, float)): return float(x)\n",
    "        s = str(x).strip().lower()\n",
    "        if s in mapping: return mapping[s]\n",
    "        try:\n",
    "            return float(s.replace('+', '').replace(',', '').split()[0])\n",
    "        except:\n",
    "            return np.nan\n",
    "    return series.map(parse_val)\n",
    "\n",
    "def multi_select_contains(series, token):\n",
    "    if series is None:\n",
    "        return pd.Series([False] * len(df))\n",
    "    tok = str(token).strip().lower()\n",
    "    return (\n",
    "        series.fillna('').astype(str).str.lower()\n",
    "        .str.split(';')\n",
    "        .apply(lambda lst: tok in [x.strip() for x in lst])\n",
    "    )\n",
    "\n",
    "\n",
    "print(\"COL_WORK_EXP  =\", COL_WORK_EXP)\n",
    "print(\"COL_REMOTE    =\", COL_REMOTE)\n",
    "print(\"COL_LANG_USED =\", COL_LANG_USED)\n",
    "print(\"COL_COMP      =\", COL_COMP)\n",
    "print(\"COL_EDU       =\", COL_EDU)\n",
    "print(\"COL_AGE       =\", COL_AGE)\n",
    "print(\"COL_INDUSTRY  =\", COL_INDUSTRY)\n",
    "print(\"COL_COUNTRY   =\", COL_COUNTRY)\n",
    "\n"
   ]
  },
  {
   "cell_type": "markdown",
   "id": "0bbfa021",
   "metadata": {},
   "source": [
    "## 1) Сколько респондентов прошли опрос?"
   ]
  },
  {
   "cell_type": "code",
   "execution_count": 3,
   "id": "9729b5ce",
   "metadata": {},
   "outputs": [
    {
     "name": "stdout",
     "output_type": "stream",
     "text": [
      "1) Всего респондентов: 49123\n"
     ]
    },
    {
     "data": {
      "text/plain": [
       "49123"
      ]
     },
     "execution_count": 3,
     "metadata": {},
     "output_type": "execute_result"
    }
   ],
   "source": [
    "\n",
    "q1_total = len(df)\n",
    "print(\"1) Всего респондентов:\", q1_total)\n",
    "q1_total\n"
   ]
  },
  {
   "cell_type": "markdown",
   "id": "ea368320",
   "metadata": {},
   "source": [
    "## 2) Сколько респондентов ответили на все вопросы из схемы (schema[qname])?"
   ]
  },
  {
   "cell_type": "code",
   "execution_count": 4,
   "id": "eec014c3",
   "metadata": {},
   "outputs": [
    {
     "name": "stdout",
     "output_type": "stream",
     "text": [
      "2) Ответили на все вопросы из схемы: 0\n"
     ]
    },
    {
     "data": {
      "text/plain": [
       "0"
      ]
     },
     "execution_count": 4,
     "metadata": {},
     "output_type": "execute_result"
    }
   ],
   "source": [
    "\n",
    "subset = df[cols_in_schema]\n",
    "q2_all = subset.notna().all(axis=1).sum()\n",
    "print(\"2) Ответили на все вопросы из схемы:\", q2_all)\n",
    "q2_all\n"
   ]
  },
  {
   "cell_type": "markdown",
   "id": "8c62f380",
   "metadata": {},
   "source": [
    "## 3) Меры центральной тенденции по опыту (WorkExp)"
   ]
  },
  {
   "cell_type": "code",
   "execution_count": 5,
   "id": "34703b95",
   "metadata": {},
   "outputs": [
    {
     "data": {
      "text/plain": [
       "{'count': 42844.0,\n",
       " 'mean': 13.37,\n",
       " 'median': 10.0,\n",
       " 'mode': 10.0,\n",
       " 'std': 10.8,\n",
       " 'min': 1.0,\n",
       " 'max': 100.0}"
      ]
     },
     "execution_count": 5,
     "metadata": {},
     "output_type": "execute_result"
    }
   ],
   "source": [
    "\n",
    "workexp_num = to_numeric_workexp(df[\"WorkExp\"])\n",
    "\n",
    "stats = pd.Series({\n",
    "    \"count\":  workexp_num.notna().sum(),\n",
    "    \"mean\":   workexp_num.mean(),\n",
    "    \"median\": workexp_num.median(),\n",
    "    \"mode\":   workexp_num.mode().iloc[0] if not workexp_num.mode().empty else np.nan,\n",
    "    \"std\":    workexp_num.std(),\n",
    "    \"min\":    workexp_num.min(),\n",
    "    \"max\":    workexp_num.max(),\n",
    "})\n",
    "\n",
    "# округляем до 2 знаков\n",
    "stats = stats.round(2)\n",
    "\n",
    "stats.to_dict()\n",
    "\n",
    "\n",
    "\n"
   ]
  },
  {
   "cell_type": "markdown",
   "id": "fdcaa377",
   "metadata": {},
   "source": [
    "## 4) Сколько респондентов работает удалённо?"
   ]
  },
  {
   "cell_type": "code",
   "execution_count": 6,
   "id": "ff471ace",
   "metadata": {},
   "outputs": [
    {
     "name": "stdout",
     "output_type": "stream",
     "text": [
      "4) Удалённо работают: 10924\n"
     ]
    }
   ],
   "source": [
    "\n",
    "if COL_REMOTE:\n",
    "    remote_count = (df[COL_REMOTE].astype(str).str.lower() == \"remote\").sum()\n",
    "    print(\"4) Удалённо работают:\", remote_count)\n",
    "    remote_count\n",
    "else:\n",
    "    print(\"Колонка RemoteWork не найдена.\")\n"
   ]
  },
  {
   "cell_type": "markdown",
   "id": "c45f211c",
   "metadata": {},
   "source": [
    "## 5) Какой процент респондентов программирует на Python?"
   ]
  },
  {
   "cell_type": "code",
   "execution_count": 7,
   "id": "fe349253",
   "metadata": {},
   "outputs": [
    {
     "name": "stdout",
     "output_type": "stream",
     "text": [
      "5) Процент, кто использует Python: 37.43\n"
     ]
    }
   ],
   "source": [
    "\n",
    "if COL_LANG_USED:\n",
    "    pct_python = multi_select_contains(df[COL_LANG_USED], \"python\").mean() * 100\n",
    "    print(\"5) Процент, кто использует Python:\", round(pct_python, 2))\n",
    "    round(pct_python, 2)\n",
    "else:\n",
    "    print(\"Колонка языков не найдена.\")\n"
   ]
  },
  {
   "cell_type": "markdown",
   "id": "b1c1b307",
   "metadata": {},
   "source": [
    "## 6) Сколько респондентов учились программировать на онлайн-курсах?"
   ]
  },
  {
   "cell_type": "code",
   "execution_count": 8,
   "id": "e6e60308",
   "metadata": {},
   "outputs": [
    {
     "name": "stdout",
     "output_type": "stream",
     "text": [
      "6) Колонка обучения: LearnCodeChoose\n",
      "Количество, кто учился по онлайн-курсам: 0\n"
     ]
    }
   ],
   "source": [
    "\n",
    "learn_col = next((c for c in df.columns if 'learn' in c.lower()), None)\n",
    "if learn_col:\n",
    "    online_cnt = multi_select_contains(df[learn_col], \"online courses\").sum()\n",
    "    print(f\"6) Колонка обучения: {learn_col}\")\n",
    "    print(\"Количество, кто учился по онлайн-курсам:\", online_cnt)\n",
    "    online_cnt\n",
    "else:\n",
    "    print(\"Колонка с вариантами обучения не найдена.\")\n"
   ]
  },
  {
   "cell_type": "markdown",
   "id": "708e9ee3",
   "metadata": {},
   "source": [
    "## 7) Среди Python-разработчиков — средняя и медианная годовая компенсация по странам"
   ]
  },
  {
   "cell_type": "code",
   "execution_count": 9,
   "id": "329d6127",
   "metadata": {},
   "outputs": [
    {
     "name": "stdout",
     "output_type": "stream",
     "text": [
      "7) Компенсации Python по странам (mean/median только для валидных сумм):\n"
     ]
    },
    {
     "data": {
      "text/html": [
       "<div>\n",
       "<style scoped>\n",
       "    .dataframe tbody tr th:only-of-type {\n",
       "        vertical-align: middle;\n",
       "    }\n",
       "\n",
       "    .dataframe tbody tr th {\n",
       "        vertical-align: top;\n",
       "    }\n",
       "\n",
       "    .dataframe thead th {\n",
       "        text-align: right;\n",
       "    }\n",
       "</style>\n",
       "<table border=\"1\" class=\"dataframe\">\n",
       "  <thead>\n",
       "    <tr style=\"text-align: right;\">\n",
       "      <th></th>\n",
       "      <th>mean</th>\n",
       "      <th>median</th>\n",
       "      <th>n</th>\n",
       "    </tr>\n",
       "    <tr>\n",
       "      <th>Country</th>\n",
       "      <th></th>\n",
       "      <th></th>\n",
       "      <th></th>\n",
       "    </tr>\n",
       "  </thead>\n",
       "  <tbody>\n",
       "    <tr>\n",
       "      <th>United States of America</th>\n",
       "      <td>173271.39</td>\n",
       "      <td>150000.0</td>\n",
       "      <td>3115</td>\n",
       "    </tr>\n",
       "    <tr>\n",
       "      <th>Germany</th>\n",
       "      <td>86308.32</td>\n",
       "      <td>81210.0</td>\n",
       "      <td>1187</td>\n",
       "    </tr>\n",
       "    <tr>\n",
       "      <th>United Kingdom of Great Britain and Northern Ireland</th>\n",
       "      <td>117726.66</td>\n",
       "      <td>95299.0</td>\n",
       "      <td>747</td>\n",
       "    </tr>\n",
       "    <tr>\n",
       "      <th>France</th>\n",
       "      <td>69672.23</td>\n",
       "      <td>60328.0</td>\n",
       "      <td>588</td>\n",
       "    </tr>\n",
       "    <tr>\n",
       "      <th>India</th>\n",
       "      <td>33205.42</td>\n",
       "      <td>17436.0</td>\n",
       "      <td>540</td>\n",
       "    </tr>\n",
       "    <tr>\n",
       "      <th>Canada</th>\n",
       "      <td>102966.33</td>\n",
       "      <td>87550.0</td>\n",
       "      <td>491</td>\n",
       "    </tr>\n",
       "    <tr>\n",
       "      <th>Netherlands</th>\n",
       "      <td>95538.10</td>\n",
       "      <td>81210.0</td>\n",
       "      <td>331</td>\n",
       "    </tr>\n",
       "    <tr>\n",
       "      <th>Brazil</th>\n",
       "      <td>57053.15</td>\n",
       "      <td>27306.0</td>\n",
       "      <td>319</td>\n",
       "    </tr>\n",
       "    <tr>\n",
       "      <th>Spain</th>\n",
       "      <td>69761.91</td>\n",
       "      <td>63808.0</td>\n",
       "      <td>316</td>\n",
       "    </tr>\n",
       "    <tr>\n",
       "      <th>Poland</th>\n",
       "      <td>67814.38</td>\n",
       "      <td>60038.0</td>\n",
       "      <td>313</td>\n",
       "    </tr>\n",
       "    <tr>\n",
       "      <th>Australia</th>\n",
       "      <td>118268.97</td>\n",
       "      <td>97514.0</td>\n",
       "      <td>305</td>\n",
       "    </tr>\n",
       "    <tr>\n",
       "      <th>Ukraine</th>\n",
       "      <td>34001.41</td>\n",
       "      <td>25660.5</td>\n",
       "      <td>292</td>\n",
       "    </tr>\n",
       "    <tr>\n",
       "      <th>Italy</th>\n",
       "      <td>54156.88</td>\n",
       "      <td>48726.0</td>\n",
       "      <td>290</td>\n",
       "    </tr>\n",
       "    <tr>\n",
       "      <th>Switzerland</th>\n",
       "      <td>156737.69</td>\n",
       "      <td>142592.0</td>\n",
       "      <td>239</td>\n",
       "    </tr>\n",
       "    <tr>\n",
       "      <th>Sweden</th>\n",
       "      <td>72788.23</td>\n",
       "      <td>70440.0</td>\n",
       "      <td>228</td>\n",
       "    </tr>\n",
       "    <tr>\n",
       "      <th>Czech Republic</th>\n",
       "      <td>68944.92</td>\n",
       "      <td>57087.0</td>\n",
       "      <td>172</td>\n",
       "    </tr>\n",
       "    <tr>\n",
       "      <th>Austria</th>\n",
       "      <td>78558.39</td>\n",
       "      <td>75410.0</td>\n",
       "      <td>139</td>\n",
       "    </tr>\n",
       "    <tr>\n",
       "      <th>Denmark</th>\n",
       "      <td>115672.42</td>\n",
       "      <td>98289.0</td>\n",
       "      <td>120</td>\n",
       "    </tr>\n",
       "    <tr>\n",
       "      <th>Belgium</th>\n",
       "      <td>84245.51</td>\n",
       "      <td>69609.0</td>\n",
       "      <td>118</td>\n",
       "    </tr>\n",
       "    <tr>\n",
       "      <th>Finland</th>\n",
       "      <td>91796.32</td>\n",
       "      <td>74249.0</td>\n",
       "      <td>117</td>\n",
       "    </tr>\n",
       "  </tbody>\n",
       "</table>\n",
       "</div>"
      ],
      "text/plain": [
       "                                                           mean    median  \\\n",
       "Country                                                                     \n",
       "United States of America                              173271.39  150000.0   \n",
       "Germany                                                86308.32   81210.0   \n",
       "United Kingdom of Great Britain and Northern Ireland  117726.66   95299.0   \n",
       "France                                                 69672.23   60328.0   \n",
       "India                                                  33205.42   17436.0   \n",
       "Canada                                                102966.33   87550.0   \n",
       "Netherlands                                            95538.10   81210.0   \n",
       "Brazil                                                 57053.15   27306.0   \n",
       "Spain                                                  69761.91   63808.0   \n",
       "Poland                                                 67814.38   60038.0   \n",
       "Australia                                             118268.97   97514.0   \n",
       "Ukraine                                                34001.41   25660.5   \n",
       "Italy                                                  54156.88   48726.0   \n",
       "Switzerland                                           156737.69  142592.0   \n",
       "Sweden                                                 72788.23   70440.0   \n",
       "Czech Republic                                         68944.92   57087.0   \n",
       "Austria                                                78558.39   75410.0   \n",
       "Denmark                                               115672.42   98289.0   \n",
       "Belgium                                                84245.51   69609.0   \n",
       "Finland                                                91796.32   74249.0   \n",
       "\n",
       "                                                         n  \n",
       "Country                                                     \n",
       "United States of America                              3115  \n",
       "Germany                                               1187  \n",
       "United Kingdom of Great Britain and Northern Ireland   747  \n",
       "France                                                 588  \n",
       "India                                                  540  \n",
       "Canada                                                 491  \n",
       "Netherlands                                            331  \n",
       "Brazil                                                 319  \n",
       "Spain                                                  316  \n",
       "Poland                                                 313  \n",
       "Australia                                              305  \n",
       "Ukraine                                                292  \n",
       "Italy                                                  290  \n",
       "Switzerland                                            239  \n",
       "Sweden                                                 228  \n",
       "Czech Republic                                         172  \n",
       "Austria                                                139  \n",
       "Denmark                                                120  \n",
       "Belgium                                                118  \n",
       "Finland                                                117  "
      ]
     },
     "metadata": {},
     "output_type": "display_data"
    }
   ],
   "source": [
    "from IPython.display import display\n",
    "\n",
    "if COL_LANG_USED and COL_COMP and COL_COUNTRY:\n",
    "    df_comp = df.copy()\n",
    "    df_comp['_is_python'] = multi_select_contains(df_comp[COL_LANG_USED], 'python')\n",
    "    comp = pd.to_numeric(df_comp[COL_COMP], errors='coerce')\n",
    "\n",
    "    by_country = (\n",
    "        df_comp[df_comp['_is_python']]\n",
    "        .assign(_comp=comp)\n",
    "        .dropna(subset=[COL_COUNTRY, '_comp'])\n",
    "    )\n",
    "\n",
    "    result_7 = (\n",
    "        by_country.groupby(COL_COUNTRY)['_comp']\n",
    "        .agg(mean='mean', median='median', n='count')\n",
    "        .sort_values('n', ascending=False)\n",
    "    )\n",
    "\n",
    "   \n",
    "    result_7_fmt = result_7.assign(\n",
    "        mean=result_7['mean'].round(2),     \n",
    "        median=result_7['median'].round(2)  \n",
    "    )\n",
    "\n",
    "    print(\"7) Компенсации Python по странам (mean/median только для валидных сумм):\")\n",
    "    display(result_7_fmt.head(20))  # топ-20 стран\n",
    "\n",
    "else:\n",
    "    print(\"7) Не найдены нужные колонки для агрегации по странам.\")\n",
    "    result_7 = pd.DataFrame()\n"
   ]
  },
  {
   "cell_type": "markdown",
   "id": "47add879",
   "metadata": {},
   "source": [
    "## 8) Уровни образования у 5 респондентов с наибольшей компенсацией"
   ]
  },
  {
   "cell_type": "code",
   "execution_count": 10,
   "id": "d3dad1a2",
   "metadata": {},
   "outputs": [
    {
     "name": "stdout",
     "output_type": "stream",
     "text": [
      "8) ТОП-5 компенсаций и уровни образования:\n"
     ]
    },
    {
     "data": {
      "text/html": [
       "<div>\n",
       "<style scoped>\n",
       "    .dataframe tbody tr th:only-of-type {\n",
       "        vertical-align: middle;\n",
       "    }\n",
       "\n",
       "    .dataframe tbody tr th {\n",
       "        vertical-align: top;\n",
       "    }\n",
       "\n",
       "    .dataframe thead th {\n",
       "        text-align: right;\n",
       "    }\n",
       "</style>\n",
       "<table border=\"1\" class=\"dataframe\">\n",
       "  <thead>\n",
       "    <tr style=\"text-align: right;\">\n",
       "      <th></th>\n",
       "      <th>Comp</th>\n",
       "      <th>EdLevel</th>\n",
       "      <th>Country</th>\n",
       "    </tr>\n",
       "  </thead>\n",
       "  <tbody>\n",
       "    <tr>\n",
       "      <th>34267</th>\n",
       "      <td>50,000,000</td>\n",
       "      <td>Associate degree (A.A., A.S., etc.)</td>\n",
       "      <td>United States of America</td>\n",
       "    </tr>\n",
       "    <tr>\n",
       "      <th>28700</th>\n",
       "      <td>33,552,715</td>\n",
       "      <td>Master’s degree (M.A., M.S., M.Eng., MBA, etc.)</td>\n",
       "      <td>Ukraine</td>\n",
       "    </tr>\n",
       "    <tr>\n",
       "      <th>43143</th>\n",
       "      <td>18,387,548</td>\n",
       "      <td>Associate degree (A.A., A.S., etc.)</td>\n",
       "      <td>Poland</td>\n",
       "    </tr>\n",
       "    <tr>\n",
       "      <th>35353</th>\n",
       "      <td>15,430,267</td>\n",
       "      <td>Bachelor’s degree (B.A., B.S., B.Eng., etc.)</td>\n",
       "      <td>Iran, Islamic Republic of...</td>\n",
       "    </tr>\n",
       "    <tr>\n",
       "      <th>45971</th>\n",
       "      <td>13,921,760</td>\n",
       "      <td>Master’s degree (M.A., M.S., M.Eng., MBA, etc.)</td>\n",
       "      <td>Netherlands</td>\n",
       "    </tr>\n",
       "  </tbody>\n",
       "</table>\n",
       "</div>"
      ],
      "text/plain": [
       "             Comp                                          EdLevel  \\\n",
       "34267  50,000,000              Associate degree (A.A., A.S., etc.)   \n",
       "28700  33,552,715  Master’s degree (M.A., M.S., M.Eng., MBA, etc.)   \n",
       "43143  18,387,548              Associate degree (A.A., A.S., etc.)   \n",
       "35353  15,430,267     Bachelor’s degree (B.A., B.S., B.Eng., etc.)   \n",
       "45971  13,921,760  Master’s degree (M.A., M.S., M.Eng., MBA, etc.)   \n",
       "\n",
       "                            Country  \n",
       "34267      United States of America  \n",
       "28700                       Ukraine  \n",
       "43143                        Poland  \n",
       "35353  Iran, Islamic Republic of...  \n",
       "45971                   Netherlands  "
      ]
     },
     "metadata": {},
     "output_type": "display_data"
    }
   ],
   "source": [
    "from IPython.display import display\n",
    "\n",
    "\n",
    "if COL_COMP and COL_EDU:\n",
    "    top5 = (\n",
    "        df.assign(_comp=pd.to_numeric(df[COL_COMP], errors='coerce'))\n",
    "          .dropna(subset=['_comp'])\n",
    "          .sort_values('_comp', ascending=False)\n",
    "          .head(5)[['_comp', COL_EDU, 'Country']]\n",
    "          .rename(columns={'_comp': 'Comp', COL_EDU: 'EdLevel'})\n",
    "    )\n",
    "\n",
    "   \n",
    "    top5_fmt = top5.copy()\n",
    "    top5_fmt['Comp'] = top5_fmt['Comp'].round(0).apply(lambda x: f\"{x:,.0f}\")\n",
    "\n",
    "    print(\"8) ТОП-5 компенсаций и уровни образования:\")\n",
    "    display(top5_fmt)\n",
    "else:\n",
    "    print(\"8) Нет нужных колонок компенсации/образования.\")\n",
    "\n",
    "\n"
   ]
  },
  {
   "cell_type": "markdown",
   "id": "ebb454fd",
   "metadata": {},
   "source": [
    "## Бонус 1) По каждой возрастной категории — % кто программирует на Python"
   ]
  },
  {
   "cell_type": "code",
   "execution_count": 11,
   "id": "bb368adc",
   "metadata": {},
   "outputs": [
    {
     "name": "stdout",
     "output_type": "stream",
     "text": [
      "Бонус 1) Доля Python-разработчиков по возрастным категориям:\n"
     ]
    },
    {
     "data": {
      "text/html": [
       "<div>\n",
       "<style scoped>\n",
       "    .dataframe tbody tr th:only-of-type {\n",
       "        vertical-align: middle;\n",
       "    }\n",
       "\n",
       "    .dataframe tbody tr th {\n",
       "        vertical-align: top;\n",
       "    }\n",
       "\n",
       "    .dataframe thead th {\n",
       "        text-align: right;\n",
       "    }\n",
       "</style>\n",
       "<table border=\"1\" class=\"dataframe\">\n",
       "  <thead>\n",
       "    <tr style=\"text-align: right;\">\n",
       "      <th></th>\n",
       "      <th>Age</th>\n",
       "      <th>% Python</th>\n",
       "    </tr>\n",
       "  </thead>\n",
       "  <tbody>\n",
       "    <tr>\n",
       "      <th>0</th>\n",
       "      <td>18-24 years old</td>\n",
       "      <td>39.97</td>\n",
       "    </tr>\n",
       "    <tr>\n",
       "      <th>1</th>\n",
       "      <td>25-34 years old</td>\n",
       "      <td>36.82</td>\n",
       "    </tr>\n",
       "    <tr>\n",
       "      <th>2</th>\n",
       "      <td>35-44 years old</td>\n",
       "      <td>36.61</td>\n",
       "    </tr>\n",
       "    <tr>\n",
       "      <th>3</th>\n",
       "      <td>45-54 years old</td>\n",
       "      <td>38.48</td>\n",
       "    </tr>\n",
       "    <tr>\n",
       "      <th>4</th>\n",
       "      <td>55-64 years old</td>\n",
       "      <td>37.17</td>\n",
       "    </tr>\n",
       "    <tr>\n",
       "      <th>5</th>\n",
       "      <td>65 years or older</td>\n",
       "      <td>31.32</td>\n",
       "    </tr>\n",
       "    <tr>\n",
       "      <th>6</th>\n",
       "      <td>Prefer not to say</td>\n",
       "      <td>30.95</td>\n",
       "    </tr>\n",
       "  </tbody>\n",
       "</table>\n",
       "</div>"
      ],
      "text/plain": [
       "                 Age  % Python\n",
       "0    18-24 years old     39.97\n",
       "1    25-34 years old     36.82\n",
       "2    35-44 years old     36.61\n",
       "3    45-54 years old     38.48\n",
       "4    55-64 years old     37.17\n",
       "5  65 years or older     31.32\n",
       "6  Prefer not to say     30.95"
      ]
     },
     "metadata": {},
     "output_type": "display_data"
    }
   ],
   "source": [
    "if COL_AGE and COL_LANG_USED:   \n",
    "    age_python = (             \n",
    "        pd.DataFrame({\n",
    "            'Age': df[COL_AGE],  # берём возраст респондентов\n",
    "            '_is_python': multi_select_contains(df[COL_LANG_USED], 'python')  \n",
    "            \n",
    "        })\n",
    "        .dropna(subset=['Age'])      \n",
    "        .groupby('Age')['_is_python']  \n",
    "        .mean() * 100                  \n",
    "    ).sort_index()                     \n",
    "\n",
    "   \n",
    "    age_python_df = (\n",
    "        age_python.round(2)   \n",
    "        .reset_index()        \n",
    "        .rename(columns={'_is_python': '% Python'})  \n",
    "    )\n",
    "\n",
    "    # выводим заголовок и таблицу\n",
    "    print(\"Бонус 1) Доля Python-разработчиков по возрастным категориям:\")\n",
    "    display(age_python_df)\n",
    "\n",
    "else:\n",
    "    # если нужных колонок нет\n",
    "    print(\"Бонус 1) Нет нужных колонок Age/Languages\")\n"
   ]
  },
  {
   "cell_type": "markdown",
   "id": "9c895c5d",
   "metadata": {},
   "source": [
    "## Бонус 2) Среди респондентов в 75-м перцентиле компенсации и работающих удалённо — самые распространённые индустрии"
   ]
  },
  {
   "cell_type": "code",
   "execution_count": 12,
   "id": "cc439f1d",
   "metadata": {},
   "outputs": [
    {
     "name": "stdout",
     "output_type": "stream",
     "text": [
      "Бонус 2) ТОП-20 индустрий среди remote с компенсацией в топ-25%:\n"
     ]
    },
    {
     "data": {
      "text/html": [
       "<div>\n",
       "<style scoped>\n",
       "    .dataframe tbody tr th:only-of-type {\n",
       "        vertical-align: middle;\n",
       "    }\n",
       "\n",
       "    .dataframe tbody tr th {\n",
       "        vertical-align: top;\n",
       "    }\n",
       "\n",
       "    .dataframe thead th {\n",
       "        text-align: right;\n",
       "    }\n",
       "</style>\n",
       "<table border=\"1\" class=\"dataframe\">\n",
       "  <thead>\n",
       "    <tr style=\"text-align: right;\">\n",
       "      <th></th>\n",
       "      <th>count</th>\n",
       "    </tr>\n",
       "    <tr>\n",
       "      <th>Industry</th>\n",
       "      <th></th>\n",
       "    </tr>\n",
       "  </thead>\n",
       "  <tbody>\n",
       "    <tr>\n",
       "      <th>Software Development</th>\n",
       "      <td>1184</td>\n",
       "    </tr>\n",
       "    <tr>\n",
       "      <th>Fintech</th>\n",
       "      <td>189</td>\n",
       "    </tr>\n",
       "    <tr>\n",
       "      <th>Healthcare</th>\n",
       "      <td>188</td>\n",
       "    </tr>\n",
       "    <tr>\n",
       "      <th>Other:</th>\n",
       "      <td>176</td>\n",
       "    </tr>\n",
       "    <tr>\n",
       "      <th>Internet, Telecomm or Information Services</th>\n",
       "      <td>138</td>\n",
       "    </tr>\n",
       "    <tr>\n",
       "      <th>Banking/Financial Services</th>\n",
       "      <td>88</td>\n",
       "    </tr>\n",
       "    <tr>\n",
       "      <th>Government</th>\n",
       "      <td>78</td>\n",
       "    </tr>\n",
       "    <tr>\n",
       "      <th>Media &amp; Advertising Services</th>\n",
       "      <td>75</td>\n",
       "    </tr>\n",
       "    <tr>\n",
       "      <th>Retail and Consumer Services</th>\n",
       "      <td>64</td>\n",
       "    </tr>\n",
       "    <tr>\n",
       "      <th>Transportation, or Supply Chain</th>\n",
       "      <td>63</td>\n",
       "    </tr>\n",
       "    <tr>\n",
       "      <th>Computer Systems Design and Services</th>\n",
       "      <td>59</td>\n",
       "    </tr>\n",
       "    <tr>\n",
       "      <th>Insurance</th>\n",
       "      <td>46</td>\n",
       "    </tr>\n",
       "    <tr>\n",
       "      <th>Energy</th>\n",
       "      <td>45</td>\n",
       "    </tr>\n",
       "    <tr>\n",
       "      <th>Manufacturing</th>\n",
       "      <td>33</td>\n",
       "    </tr>\n",
       "    <tr>\n",
       "      <th>Higher Education</th>\n",
       "      <td>30</td>\n",
       "    </tr>\n",
       "  </tbody>\n",
       "</table>\n",
       "</div>"
      ],
      "text/plain": [
       "                                            count\n",
       "Industry                                         \n",
       "Software Development                         1184\n",
       "Fintech                                       189\n",
       "Healthcare                                    188\n",
       "Other:                                        176\n",
       "Internet, Telecomm or Information Services    138\n",
       "Banking/Financial Services                     88\n",
       "Government                                     78\n",
       "Media & Advertising Services                   75\n",
       "Retail and Consumer Services                   64\n",
       "Transportation, or Supply Chain                63\n",
       "Computer Systems Design and Services           59\n",
       "Insurance                                      46\n",
       "Energy                                         45\n",
       "Manufacturing                                  33\n",
       "Higher Education                               30"
      ]
     },
     "metadata": {},
     "output_type": "display_data"
    }
   ],
   "source": [
    "if COL_COMP and COL_REMOTE and COL_INDUSTRY:   \n",
    "    comp_num = pd.to_numeric(df[COL_COMP], errors='coerce')  \n",
    "   \n",
    "    p75 = np.nanpercentile(comp_num.dropna(), 75)  \n",
    "    \n",
    "    mask = (comp_num >= p75) & (df[COL_REMOTE].astype(str).str.lower() == 'remote')  \n",
    "    \n",
    "    top_industries = (\n",
    "        df.loc[mask, COL_INDUSTRY]    \n",
    "          .dropna()                    \n",
    "          .value_counts()             \n",
    "          .to_frame('count')          \n",
    "          .head(20)                   \n",
    "    )\n",
    "\n",
    "    print(\"Бонус 2) ТОП-20 индустрий среди remote с компенсацией в топ-25%:\")\n",
    "    display(top_industries)\n",
    "\n",
    "else:\n",
    "    print(\"Бонус 2) Нет нужных колонок Compensation/Remote/Industry\")\n"
   ]
  },
  {
   "cell_type": "code",
   "execution_count": null,
   "id": "25f7cb20-fc77-4554-ba65-9006809e8641",
   "metadata": {},
   "outputs": [],
   "source": []
  }
 ],
 "metadata": {
  "kernelspec": {
   "display_name": "Python 3 (ipykernel)",
   "language": "python",
   "name": "python3"
  },
  "language_info": {
   "codemirror_mode": {
    "name": "ipython",
    "version": 3
   },
   "file_extension": ".py",
   "mimetype": "text/x-python",
   "name": "python",
   "nbconvert_exporter": "python",
   "pygments_lexer": "ipython3",
   "version": "3.12.7"
  }
 },
 "nbformat": 4,
 "nbformat_minor": 5
}
